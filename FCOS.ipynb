{
  "nbformat": 4,
  "nbformat_minor": 0,
  "metadata": {
    "colab": {
      "provenance": [],
      "gpuType": "T4",
      "authorship_tag": "ABX9TyMyCoR6jhBrTZdtO6VbSAys",
      "include_colab_link": true
    },
    "kernelspec": {
      "name": "python3",
      "display_name": "Python 3"
    },
    "language_info": {
      "name": "python"
    },
    "accelerator": "GPU"
  },
  "cells": [
    {
      "cell_type": "markdown",
      "metadata": {
        "id": "view-in-github",
        "colab_type": "text"
      },
      "source": [
        "<a href=\"https://colab.research.google.com/github/wangyuanfudan/faster_rcnn/blob/main/FCOS.ipynb\" target=\"_parent\"><img src=\"https://colab.research.google.com/assets/colab-badge.svg\" alt=\"Open In Colab\"/></a>"
      ]
    },
    {
      "cell_type": "markdown",
      "source": [
        "下载文件"
      ],
      "metadata": {
        "id": "eBXBSpqto3mZ"
      }
    },
    {
      "cell_type": "code",
      "execution_count": 4,
      "metadata": {
        "colab": {
          "base_uri": "https://localhost:8080/"
        },
        "id": "G7kFysYVoqRc",
        "outputId": "ac65da8d-758c-4e49-98fa-12c6298d49d3"
      },
      "outputs": [
        {
          "output_type": "stream",
          "name": "stdout",
          "text": [
            "Cloning into 'FCOS'...\n",
            "remote: Enumerating objects: 2102, done.\u001b[K\n",
            "remote: Counting objects: 100% (12/12), done.\u001b[K\n",
            "remote: Compressing objects: 100% (7/7), done.\u001b[K\n",
            "remote: Total 2102 (delta 6), reused 11 (delta 5), pack-reused 2090\u001b[K\n",
            "Receiving objects: 100% (2102/2102), 8.81 MiB | 22.10 MiB/s, done.\n",
            "Resolving deltas: 100% (1370/1370), done.\n"
          ]
        }
      ],
      "source": [
        "!git clone https://github.com/tianzhi0549/FCOS.git\n"
      ]
    },
    {
      "cell_type": "code",
      "source": [
        "import os\n",
        "os.chdir(\"FCOS\")"
      ],
      "metadata": {
        "id": "UhZqNR2Ipamy"
      },
      "execution_count": 8,
      "outputs": []
    },
    {
      "cell_type": "code",
      "source": [
        "# assume that you are under the root directory of this project,\n",
        "# and you have activated your virtual environment if needed.\n",
        "!wget clone https://cloudstor.aarnet.edu.au/plus/s/ZSAqNJB96hA71Yf/download -O FCOS_imprv_R_50_FPN_1x.pth\n",
        "!python demo/fcos_demo.py"
      ],
      "metadata": {
        "colab": {
          "base_uri": "https://localhost:8080/"
        },
        "id": "RND4YNQMpFaI",
        "outputId": "bd5b55cf-733f-4ce9-ff33-97a4e57608fa"
      },
      "execution_count": 9,
      "outputs": [
        {
          "output_type": "stream",
          "name": "stdout",
          "text": [
            "--2023-05-29 03:56:27--  http://clone/\n",
            "Resolving clone (clone)... failed: Name or service not known.\n",
            "wget: unable to resolve host address ‘clone’\n",
            "--2023-05-29 03:56:27--  https://cloudstor.aarnet.edu.au/plus/s/ZSAqNJB96hA71Yf/download\n",
            "Resolving cloudstor.aarnet.edu.au (cloudstor.aarnet.edu.au)... 202.158.207.20\n",
            "Connecting to cloudstor.aarnet.edu.au (cloudstor.aarnet.edu.au)|202.158.207.20|:443... connected.\n",
            "HTTP request sent, awaiting response... 200 OK\n",
            "Syntax error in Set-Cookie: 5230042dc1897=o2afm84flfv8sqp1ntuq3lfphc; path=/plus; domain=.aarnet.edu.au;; Secure; SameSite=Lax at position 76.\n",
            "Syntax error in Set-Cookie: oc_sessionPassphrase=tWZRZuzcy9lcZPNjcWIgMMgHBC2C91bH8Rgf1CEYyvf2ARsGwFG2yDCRfp6x0xH%2FTLEp%2BbH%2BcRpfEkmU6bBfVYP9BgJzqsTekC3cX3nbeq%2BLtIJOQmDRqD9bKgryDz3j; expires=Tue, 30-May-2023 03:56:28 GMT; Max-Age=86400; path=/plus;; Secure; SameSite=Lax at position 224.\n",
            "Length: 129466694 (123M) [application/octet-stream]\n",
            "Saving to: ‘FCOS_imprv_R_50_FPN_1x.pth’\n",
            "\n",
            "FCOS_imprv_R_50_FPN 100%[===================>] 123.47M  21.1MB/s    in 6.7s    \n",
            "\n",
            "2023-05-29 03:56:35 (18.3 MB/s) - ‘FCOS_imprv_R_50_FPN_1x.pth’ saved [129466694/129466694]\n",
            "\n",
            "FINISHED --2023-05-29 03:56:35--\n",
            "Total wall clock time: 7.8s\n",
            "Downloaded: 1 files, 123M in 6.7s (18.3 MB/s)\n",
            "Traceback (most recent call last):\n",
            "  File \"/content/FCOS/demo/fcos_demo.py\", line 5, in <module>\n",
            "    from fcos_core.config import cfg\n",
            "ModuleNotFoundError: No module named 'fcos_core'\n"
          ]
        }
      ]
    },
    {
      "cell_type": "markdown",
      "source": [
        "我看了文件夹，好像在另一个文件夹下，但不知道如何修改"
      ],
      "metadata": {
        "id": "7ASS5sl9qBSo"
      }
    },
    {
      "cell_type": "code",
      "source": [
        "!python tools/test_net.py \\\n",
        "    --config-file configs/fcos/fcos_imprv_R_50_FPN_1x.yaml \\\n",
        "    MODEL.WEIGHT FCOS_imprv_R_50_FPN_1x.pth \\\n",
        "    TEST.IMS_PER_BATCH 4    "
      ],
      "metadata": {
        "colab": {
          "base_uri": "https://localhost:8080/"
        },
        "id": "2rOkclbPp0VE",
        "outputId": "cfcf1359-36e3-418a-b5df-be812dbd981a"
      },
      "execution_count": 10,
      "outputs": [
        {
          "output_type": "stream",
          "name": "stdout",
          "text": [
            "Traceback (most recent call last):\n",
            "  File \"/content/FCOS/tools/test_net.py\", line 4, in <module>\n",
            "    from fcos_core.utils.env import setup_environment  # noqa F401 isort:skip\n",
            "ModuleNotFoundError: No module named 'fcos_core'\n"
          ]
        }
      ]
    },
    {
      "cell_type": "code",
      "source": [
        "!python -m torch.distributed.launch \\\n",
        "    --nproc_per_node=8 \\\n",
        "    --master_port=$((RANDOM + 10000)) \\\n",
        "    tools/train_net.py \\\n",
        "    --config-file configs/fcos/fcos_imprv_R_50_FPN_1x.yaml \\\n",
        "    DATALOADER.NUM_WORKERS 2 \\\n",
        "    OUTPUT_DIR training_dir/fcos_imprv_R_50_FPN_1x"
      ],
      "metadata": {
        "colab": {
          "base_uri": "https://localhost:8080/"
        },
        "id": "xbljaoDJqLU1",
        "outputId": "8ba79df7-47e2-4286-b532-2fbcfc7faa00"
      },
      "execution_count": 12,
      "outputs": [
        {
          "output_type": "stream",
          "name": "stdout",
          "text": [
            "/usr/local/lib/python3.10/dist-packages/torch/distributed/launch.py:181: FutureWarning: The module torch.distributed.launch is deprecated\n",
            "and will be removed in future. Use torchrun.\n",
            "Note that --use-env is set by default in torchrun.\n",
            "If your script expects `--local-rank` argument to be set, please\n",
            "change it to read from `os.environ['LOCAL_RANK']` instead. See \n",
            "https://pytorch.org/docs/stable/distributed.html#launch-utility for \n",
            "further instructions\n",
            "\n",
            "  warnings.warn(\n",
            "WARNING:torch.distributed.run:\n",
            "*****************************************\n",
            "Setting OMP_NUM_THREADS environment variable for each process to be 1 in default, to avoid your system being overloaded, please further tune the variable for optimal performance in your application as needed. \n",
            "*****************************************\n",
            "Traceback (most recent call last):\n",
            "  File \"/content/FCOS/tools/train_net.py\", line 8, in <module>\n",
            "    from fcos_core.utils.env import setup_environment  # noqa F401 isort:skip\n",
            "ModuleNotFoundError: No module named 'fcos_core'\n",
            "Traceback (most recent call last):\n",
            "  File \"/content/FCOS/tools/train_net.py\", line 8, in <module>\n",
            "    from fcos_core.utils.env import setup_environment  # noqa F401 isort:skip\n",
            "ModuleNotFoundError: No module named 'fcos_core'\n",
            "Traceback (most recent call last):\n",
            "Traceback (most recent call last):\n",
            "  File \"/content/FCOS/tools/train_net.py\", line 8, in <module>\n",
            "    from fcos_core.utils.env import setup_environment  # noqa F401 isort:skip\n",
            "ModuleNotFoundError: No module named 'fcos_core'\n",
            "  File \"/content/FCOS/tools/train_net.py\", line 8, in <module>\n",
            "    from fcos_core.utils.env import setup_environment  # noqa F401 isort:skip\n",
            "ModuleNotFoundError: No module named 'fcos_core'\n",
            "Traceback (most recent call last):\n",
            "  File \"/content/FCOS/tools/train_net.py\", line 8, in <module>\n",
            "    from fcos_core.utils.env import setup_environment  # noqa F401 isort:skip\n",
            "ModuleNotFoundError: No module named 'fcos_core'\n",
            "Traceback (most recent call last):\n",
            "  File \"/content/FCOS/tools/train_net.py\", line 8, in <module>\n",
            "    from fcos_core.utils.env import setup_environment  # noqa F401 isort:skip\n",
            "ModuleNotFoundError: No module named 'fcos_core'\n",
            "Traceback (most recent call last):\n",
            "  File \"/content/FCOS/tools/train_net.py\", line 8, in <module>\n",
            "    from fcos_core.utils.env import setup_environment  # noqa F401 isort:skip\n",
            "ModuleNotFoundError: No module named 'fcos_core'\n",
            "Traceback (most recent call last):\n",
            "  File \"/content/FCOS/tools/train_net.py\", line 8, in <module>\n",
            "    from fcos_core.utils.env import setup_environment  # noqa F401 isort:skip\n",
            "ModuleNotFoundError: No module named 'fcos_core'\n",
            "ERROR:torch.distributed.elastic.multiprocessing.api:failed (exitcode: 1) local_rank: 0 (pid: 2478) of binary: /usr/bin/python3\n",
            "Traceback (most recent call last):\n",
            "  File \"/usr/lib/python3.10/runpy.py\", line 196, in _run_module_as_main\n",
            "    return _run_code(code, main_globals, None,\n",
            "  File \"/usr/lib/python3.10/runpy.py\", line 86, in _run_code\n",
            "    exec(code, run_globals)\n",
            "  File \"/usr/local/lib/python3.10/dist-packages/torch/distributed/launch.py\", line 196, in <module>\n",
            "    main()\n",
            "  File \"/usr/local/lib/python3.10/dist-packages/torch/distributed/launch.py\", line 192, in main\n",
            "    launch(args)\n",
            "  File \"/usr/local/lib/python3.10/dist-packages/torch/distributed/launch.py\", line 177, in launch\n",
            "    run(args)\n",
            "  File \"/usr/local/lib/python3.10/dist-packages/torch/distributed/run.py\", line 785, in run\n",
            "    elastic_launch(\n",
            "  File \"/usr/local/lib/python3.10/dist-packages/torch/distributed/launcher/api.py\", line 134, in __call__\n",
            "    return launch_agent(self._config, self._entrypoint, list(args))\n",
            "  File \"/usr/local/lib/python3.10/dist-packages/torch/distributed/launcher/api.py\", line 250, in launch_agent\n",
            "    raise ChildFailedError(\n",
            "torch.distributed.elastic.multiprocessing.errors.ChildFailedError: \n",
            "============================================================\n",
            "tools/train_net.py FAILED\n",
            "------------------------------------------------------------\n",
            "Failures:\n",
            "[1]:\n",
            "  time      : 2023-05-29_03:59:46\n",
            "  host      : dadef6362275\n",
            "  rank      : 1 (local_rank: 1)\n",
            "  exitcode  : 1 (pid: 2479)\n",
            "  error_file: <N/A>\n",
            "  traceback : To enable traceback see: https://pytorch.org/docs/stable/elastic/errors.html\n",
            "[2]:\n",
            "  time      : 2023-05-29_03:59:46\n",
            "  host      : dadef6362275\n",
            "  rank      : 2 (local_rank: 2)\n",
            "  exitcode  : 1 (pid: 2480)\n",
            "  error_file: <N/A>\n",
            "  traceback : To enable traceback see: https://pytorch.org/docs/stable/elastic/errors.html\n",
            "[3]:\n",
            "  time      : 2023-05-29_03:59:46\n",
            "  host      : dadef6362275\n",
            "  rank      : 3 (local_rank: 3)\n",
            "  exitcode  : 1 (pid: 2481)\n",
            "  error_file: <N/A>\n",
            "  traceback : To enable traceback see: https://pytorch.org/docs/stable/elastic/errors.html\n",
            "[4]:\n",
            "  time      : 2023-05-29_03:59:46\n",
            "  host      : dadef6362275\n",
            "  rank      : 4 (local_rank: 4)\n",
            "  exitcode  : 1 (pid: 2482)\n",
            "  error_file: <N/A>\n",
            "  traceback : To enable traceback see: https://pytorch.org/docs/stable/elastic/errors.html\n",
            "[5]:\n",
            "  time      : 2023-05-29_03:59:46\n",
            "  host      : dadef6362275\n",
            "  rank      : 5 (local_rank: 5)\n",
            "  exitcode  : 1 (pid: 2483)\n",
            "  error_file: <N/A>\n",
            "  traceback : To enable traceback see: https://pytorch.org/docs/stable/elastic/errors.html\n",
            "[6]:\n",
            "  time      : 2023-05-29_03:59:46\n",
            "  host      : dadef6362275\n",
            "  rank      : 6 (local_rank: 6)\n",
            "  exitcode  : 1 (pid: 2484)\n",
            "  error_file: <N/A>\n",
            "  traceback : To enable traceback see: https://pytorch.org/docs/stable/elastic/errors.html\n",
            "[7]:\n",
            "  time      : 2023-05-29_03:59:46\n",
            "  host      : dadef6362275\n",
            "  rank      : 7 (local_rank: 7)\n",
            "  exitcode  : 1 (pid: 2485)\n",
            "  error_file: <N/A>\n",
            "  traceback : To enable traceback see: https://pytorch.org/docs/stable/elastic/errors.html\n",
            "------------------------------------------------------------\n",
            "Root Cause (first observed failure):\n",
            "[0]:\n",
            "  time      : 2023-05-29_03:59:46\n",
            "  host      : dadef6362275\n",
            "  rank      : 0 (local_rank: 0)\n",
            "  exitcode  : 1 (pid: 2478)\n",
            "  error_file: <N/A>\n",
            "  traceback : To enable traceback see: https://pytorch.org/docs/stable/elastic/errors.html\n",
            "============================================================\n"
          ]
        }
      ]
    }
  ]
}